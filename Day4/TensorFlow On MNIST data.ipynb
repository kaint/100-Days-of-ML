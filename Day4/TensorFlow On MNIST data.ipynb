{
 "cells": [
  {
   "cell_type": "code",
   "execution_count": 16,
   "metadata": {
    "collapsed": true
   },
   "outputs": [],
   "source": [
    "## first of all we will see images"
   ]
  },
  {
   "cell_type": "code",
   "execution_count": 17,
   "metadata": {
    "collapsed": true
   },
   "outputs": [],
   "source": [
    "import tensorflow as tf\n",
    "from tensorflow.examples.tutorials.mnist import input_data"
   ]
  },
  {
   "cell_type": "code",
   "execution_count": 18,
   "metadata": {
    "collapsed": false
   },
   "outputs": [
    {
     "name": "stdout",
     "output_type": "stream",
     "text": [
      "Extracting MNIS_data/train-images-idx3-ubyte.gz\n",
      "Extracting MNIS_data/train-labels-idx1-ubyte.gz\n",
      "Extracting MNIS_data/t10k-images-idx3-ubyte.gz\n",
      "Extracting MNIS_data/t10k-labels-idx1-ubyte.gz\n"
     ]
    },
    {
     "data": {
      "text/plain": [
       "Datasets(train=<tensorflow.contrib.learn.python.learn.datasets.mnist.DataSet object at 0x00000249D5F84588>, validation=<tensorflow.contrib.learn.python.learn.datasets.mnist.DataSet object at 0x00000249815594E0>, test=<tensorflow.contrib.learn.python.learn.datasets.mnist.DataSet object at 0x00000249815599E8>)"
      ]
     },
     "execution_count": 18,
     "metadata": {},
     "output_type": "execute_result"
    }
   ],
   "source": [
    "data=input_data.read_data_sets(\"MNIS_data/\",one_hot=True)         #WE CAN PASS THE one_hot=True it means in the op it will matrix equal\n",
    "data                                                 #columns that have only one set value that represent the one value that is \n",
    "                                                      #the dclass of current images"
   ]
  },
  {
   "cell_type": "code",
   "execution_count": 19,
   "metadata": {
    "collapsed": false
   },
   "outputs": [
    {
     "data": {
      "text/plain": [
       "(55000, 784)"
      ]
     },
     "execution_count": 19,
     "metadata": {},
     "output_type": "execute_result"
    }
   ],
   "source": [
    "data.train.images.shape"
   ]
  },
  {
   "cell_type": "code",
   "execution_count": 20,
   "metadata": {
    "collapsed": false
   },
   "outputs": [],
   "source": [
    "#in this we have 28*28 pixel\n",
    "# let us define weights\n",
    "\n",
    "n_input=784\n",
    "n_hidden1=256\n",
    "n_hidden2=256\n",
    "n_output=10\n",
    "\n",
    "weights={'h1':tf.Variable(tf.random_normal([n_input,n_hidden1])),\n",
    "        'h2':tf.Variable(tf.random_normal([n_hidden1,n_hidden2])),\n",
    "        'out':tf.Variable(tf.random_normal([n_hidden2,n_output]))\n",
    "}\n",
    "biases={\n",
    "        'h1':tf.Variable(tf.random_normal([n_hidden1])),\n",
    "        'h2':tf.Variable(tf.random_normal([n_hidden2])),\n",
    "        'out':tf.Variable(tf.random_normal([n_output])) \n",
    "}\n"
   ]
  },
  {
   "cell_type": "code",
   "execution_count": 21,
   "metadata": {
    "collapsed": false
   },
   "outputs": [],
   "source": [
    "def forward(x,weights,bias):\n",
    "    input_hidden1=tf.add(tf.matmul(x,weights['h1']),bias['h1'])\n",
    "    output_hidden1=tf.nn.relu(input_hidden1)\n",
    "    \n",
    "    input_hidden2=tf.add(tf.matmul(output_hidden1,weights['h2']),bias['h2'])\n",
    "    output_hidden2=tf.nn.relu(input_hidden2)\n",
    "    \n",
    "    return tf.add(tf.matmul(output_hidden2,weights['out']),bias['out'])"
   ]
  },
  {
   "cell_type": "code",
   "execution_count": 33,
   "metadata": {
    "collapsed": false
   },
   "outputs": [],
   "source": [
    "\n",
    "\n",
    "x=tf.placeholder(\"float\",[ None ,n_input])\n",
    "y=tf.placeholder(tf.int32,[None, n_output])\n",
    "pred=forward(x,weights,biases)"
   ]
  },
  {
   "cell_type": "code",
   "execution_count": null,
   "metadata": {
    "collapsed": true
   },
   "outputs": [],
   "source": []
  },
  {
   "cell_type": "code",
   "execution_count": null,
   "metadata": {
    "collapsed": true
   },
   "outputs": [],
   "source": []
  },
  {
   "cell_type": "code",
   "execution_count": null,
   "metadata": {
    "collapsed": true
   },
   "outputs": [],
   "source": []
  },
  {
   "cell_type": "code",
   "execution_count": 34,
   "metadata": {
    "collapsed": false
   },
   "outputs": [],
   "source": [
    "cost = tf.reduce_mean(tf.nn.softmax_cross_entropy_with_logits(logits=pred, labels = y))"
   ]
  },
  {
   "cell_type": "code",
   "execution_count": null,
   "metadata": {
    "collapsed": true
   },
   "outputs": [],
   "source": []
  },
  {
   "cell_type": "code",
   "execution_count": 38,
   "metadata": {
    "collapsed": false
   },
   "outputs": [],
   "source": [
    "optimizer = tf.train.AdamOptimizer(learning_rate=0.01)\n",
    "optimize = optimizer.minimize(cost)"
   ]
  },
  {
   "cell_type": "code",
   "execution_count": 39,
   "metadata": {
    "collapsed": true
   },
   "outputs": [],
   "source": [
    "sess=tf.Session()\n",
    "sess.run(tf.global_variables_initializer())"
   ]
  },
  {
   "cell_type": "code",
   "execution_count": 40,
   "metadata": {
    "collapsed": false
   },
   "outputs": [
    {
     "name": "stdout",
     "output_type": "stream",
     "text": [
      "24233.558699011803\n",
      "4538.466147068888\n",
      "2400.083106140606\n",
      "1705.4980797425558\n",
      "1242.7809245191513\n",
      "1159.8811283536775\n",
      "970.0353139829042\n",
      "868.1629085405515\n",
      "769.5342689148857\n",
      "705.5720055004851\n",
      "571.8691805237801\n",
      "542.3970944169555\n",
      "505.82137911973973\n",
      "505.23186894011883\n",
      "378.1147387216461\n",
      "280.5980536367797\n",
      "308.54073569574393\n",
      "269.50841709408184\n",
      "205.6144663671086\n",
      "204.96421580552007\n",
      "232.11272108722963\n",
      "164.8139452395389\n",
      "137.58515677258814\n",
      "136.30170646123645\n",
      "142.15220647351458\n"
     ]
    }
   ],
   "source": [
    "batch_size = 100\n",
    "\n",
    "for i in range(25):\n",
    "    num_batches = int(data.train.num_examples/batch_size)\n",
    "    total_cost = 0\n",
    "    for j in range(num_batches):\n",
    "        batch_x, batch_y = data.train.next_batch(batch_size)\n",
    "        c, _ = sess.run([cost,optimize], feed_dict={x:batch_x , y:batch_y})\n",
    "        total_cost += c\n",
    "    \n",
    "    print(total_cost)"
   ]
  },
  {
   "cell_type": "code",
   "execution_count": 37,
   "metadata": {
    "collapsed": false
   },
   "outputs": [
    {
     "data": {
      "text/plain": [
       "TensorShape([Dimension(None), Dimension(10)])"
      ]
     },
     "execution_count": 37,
     "metadata": {},
     "output_type": "execute_result"
    }
   ],
   "source": [
    "pred.shape"
   ]
  },
  {
   "cell_type": "code",
   "execution_count": 31,
   "metadata": {
    "collapsed": false
   },
   "outputs": [
    {
     "ename": "NameError",
     "evalue": "name 'actual' is not defined",
     "output_type": "error",
     "traceback": [
      "\u001b[0;31m---------------------------------------------------------------------------\u001b[0m",
      "\u001b[0;31mNameError\u001b[0m                                 Traceback (most recent call last)",
      "\u001b[0;32m<ipython-input-31-c62cbe7d468d>\u001b[0m in \u001b[0;36m<module>\u001b[0;34m()\u001b[0m\n\u001b[0;32m----> 1\u001b[0;31m \u001b[0mactual\u001b[0m\u001b[1;33m.\u001b[0m\u001b[0mshape\u001b[0m\u001b[1;33m\u001b[0m\u001b[0m\n\u001b[0m",
      "\u001b[0;31mNameError\u001b[0m: name 'actual' is not defined"
     ]
    }
   ],
   "source": [
    "actual.shape"
   ]
  },
  {
   "cell_type": "code",
   "execution_count": 67,
   "metadata": {
    "collapsed": true
   },
   "outputs": [],
   "source": [
    "# now compare them\n",
    "\n",
    "\n"
   ]
  },
  {
   "cell_type": "code",
   "execution_count": 68,
   "metadata": {
    "collapsed": false
   },
   "outputs": [
    {
     "data": {
      "text/plain": [
       "984"
      ]
     },
     "execution_count": 68,
     "metadata": {},
     "output_type": "execute_result"
    }
   ],
   "source": []
  },
  {
   "cell_type": "code",
   "execution_count": null,
   "metadata": {
    "collapsed": true
   },
   "outputs": [],
   "source": []
  },
  {
   "cell_type": "code",
   "execution_count": null,
   "metadata": {
    "collapsed": true
   },
   "outputs": [],
   "source": []
  },
  {
   "cell_type": "code",
   "execution_count": null,
   "metadata": {
    "collapsed": true
   },
   "outputs": [],
   "source": []
  }
 ],
 "metadata": {
  "kernelspec": {
   "display_name": "Python 3",
   "language": "python",
   "name": "python3"
  },
  "language_info": {
   "codemirror_mode": {
    "name": "ipython",
    "version": 3
   },
   "file_extension": ".py",
   "mimetype": "text/x-python",
   "name": "python",
   "nbconvert_exporter": "python",
   "pygments_lexer": "ipython3",
   "version": "3.6.0"
  }
 },
 "nbformat": 4,
 "nbformat_minor": 2
}
