{
 "cells": [
  {
   "cell_type": "code",
   "execution_count": 1,
   "metadata": {
    "collapsed": true
   },
   "outputs": [],
   "source": [
    "import numpy as np\n",
    "from matplotlib import pyplot as plt"
   ]
  },
  {
   "cell_type": "code",
   "execution_count": null,
   "metadata": {
    "collapsed": true
   },
   "outputs": [],
   "source": []
  },
  {
   "cell_type": "code",
   "execution_count": 2,
   "metadata": {
    "collapsed": false
   },
   "outputs": [
    {
     "data": {
      "image/png": "[encoded data removed]",
      "text/plain": [
       "<matplotlib.figure.Figure at 0x18a22b0b860>"
      ]
     },
     "metadata": {},
     "output_type": "display_data"
    }
   ],
   "source": [
    "x = np.array([[1,2], [1.5,1.8], [5,8], [8,8], [1,0.6], [9,11]])\n",
    "plt.scatter(x[:,0],x[:,1])\n",
    "plt.show()"
   ]
  },
  {
   "cell_type": "code",
   "execution_count": 3,
   "metadata": {
    "collapsed": true
   },
   "outputs": [],
   "source": [
    "from sklearn.cluster import KMeans"
   ]
  },
  {
   "cell_type": "code",
   "execution_count": 4,
   "metadata": {
    "collapsed": false
   },
   "outputs": [],
   "source": [
    "k_means=KMeans(n_clusters=2)"
   ]
  },
  {
   "cell_type": "code",
   "execution_count": 5,
   "metadata": {
    "collapsed": false
   },
   "outputs": [
    {
     "data": {
      "text/plain": [
       "KMeans(algorithm='auto', copy_x=True, init='k-means++', max_iter=300,\n",
       "    n_clusters=2, n_init=10, n_jobs=1, precompute_distances='auto',\n",
       "    random_state=None, tol=0.0001, verbose=0)"
      ]
     },
     "execution_count": 5,
     "metadata": {},
     "output_type": "execute_result"
    }
   ],
   "source": [
    "k_means.fit(x)     #bydeafualt n_cluster=8....... init use kmeans++  algo which means select point in such a\n",
    "                   #way that points are far fromeach other\n",
    "             #n_init how many time again to run from restart"
   ]
  },
  {
   "cell_type": "code",
   "execution_count": 6,
   "metadata": {
    "collapsed": false
   },
   "outputs": [
    {
     "data": {
      "text/plain": [
       "array([1, 1, 0, 0, 1, 0])"
      ]
     },
     "execution_count": 6,
     "metadata": {},
     "output_type": "execute_result"
    }
   ],
   "source": [
    "k_means.labels_"
   ]
  },
  {
   "cell_type": "code",
   "execution_count": 7,
   "metadata": {
    "collapsed": false
   },
   "outputs": [
    {
     "data": {
      "text/plain": [
       "array([[7.33333333, 9.        ],\n",
       "       [1.16666667, 1.46666667]])"
      ]
     },
     "execution_count": 7,
     "metadata": {},
     "output_type": "execute_result"
    }
   ],
   "source": [
    "centers=k_means.cluster_centers_\n",
    "centers"
   ]
  },
  {
   "cell_type": "code",
   "execution_count": 8,
   "metadata": {
    "collapsed": false
   },
   "outputs": [
    {
     "data": {
      "image/png": "[encoded data removed]",
      "text/plain": [
       "<matplotlib.figure.Figure at 0x18a25ff39e8>"
      ]
     },
     "metadata": {},
     "output_type": "display_data"
    }
   ],
   "source": [
    "plt.scatter(centers[:,0],centers[:,1],c='r' ,marker='*')\n",
    "plt.scatter(x[:,0],x[:,1])\n",
    "\n",
    "plt.show()"
   ]
  },
  {
   "cell_type": "code",
   "execution_count": 53,
   "metadata": {
    "collapsed": true
   },
   "outputs": [],
   "source": [
    "class k_means :\n",
    "    def __init__(self,k=2,max_iter=100):\n",
    "        print(\"constructor\")\n",
    "        self.k=k\n",
    "        self.max_iter=max_iter\n",
    "        \n",
    "    def fit(self,data):\n",
    "        #MAINTAIN LIST OF MEANS \n",
    "        #CLUSTER INFO ie WHICH POINT BELONGS TO WHICH POINT\n",
    "        self.mean=[]\n",
    "        #randomly initiazlize means\n",
    "        #in our case we are just appending the first k points to our means\n",
    "        for i in range(self.k):\n",
    "            self.mean.append(data[i])\n",
    "\n",
    "        for i in range(self.max_iter):\n",
    "            #assinge the data points to the clluster that they belong to\n",
    "            #creating empty cluster\n",
    "            clusters=[]\n",
    "            for j in range(self.k):\n",
    "                clusters.append([])\n",
    "\n",
    "            for points in data:\n",
    "                #find distance to all mean value\n",
    "                #find the min distance\n",
    "                #find the mean for which we got mini distance\n",
    "                #add this point to cluster with min distnace\n",
    "                distances=[((points-m)**2).sum() for m in self.mean]\n",
    "                minDistances=min(distances)\n",
    "                l=distances.index(minDistances)\n",
    "                clusters[l].append(points)\n",
    "\n",
    "\n",
    "            #new mean values\n",
    "            change=False ;\n",
    "            for j in range(self.k):\n",
    "                newmean=np.average(clusters[j],axis=0)\n",
    "                if not np.array_equal(newmean,means[j]):\n",
    "                    change=True ;\n",
    "                self.mean[j]=newmean   \n",
    "            if not change:\n",
    "                break;\n",
    "        #return self.mean\n",
    "    \n",
    "    \n",
    "    def predict(self,test_data):\n",
    "        predictions=[ ]\n",
    "        for points in test_data:\n",
    "             #find distance to all mean value\n",
    "            #find the min distance\n",
    "            #find the mean for which we got mini distance\n",
    "            #add this point to cluster with min distnace\n",
    "            distances=[((points-m)**2).sum() for m in self.mean]\n",
    "            minDistances=min(distances)\n",
    "            l=distances.index(minDistances)\n",
    "            predictions.append(l)\n",
    "        return predictions\n",
    "        \n",
    "        \n",
    "      \n",
    "    "
   ]
  },
  {
   "cell_type": "code",
   "execution_count": 54,
   "metadata": {
    "collapsed": false
   },
   "outputs": [
    {
     "name": "stdout",
     "output_type": "stream",
     "text": [
      "constructor\n"
     ]
    }
   ],
   "source": [
    "kmeans=k_means(2,10)"
   ]
  },
  {
   "cell_type": "code",
   "execution_count": 55,
   "metadata": {
    "collapsed": false
   },
   "outputs": [],
   "source": [
    "kmeans.fit(x)"
   ]
  },
  {
   "cell_type": "code",
   "execution_count": 56,
   "metadata": {
    "collapsed": false
   },
   "outputs": [
    {
     "data": {
      "text/plain": [
       "[0, 0, 1, 1, 0, 1]"
      ]
     },
     "execution_count": 56,
     "metadata": {},
     "output_type": "execute_result"
    }
   ],
   "source": [
    "kmeans.predict(x)"
   ]
  },
  {
   "cell_type": "code",
   "execution_count": 57,
   "metadata": {
    "collapsed": false
   },
   "outputs": [
    {
     "data": {
      "text/plain": [
       "[array([1.16666667, 1.46666667]), array([7.33333333, 9.        ])]"
      ]
     },
     "execution_count": 57,
     "metadata": {},
     "output_type": "execute_result"
    }
   ],
   "source": [
    "kmeans.mean"
   ]
  },
  {
   "cell_type": "code",
   "execution_count": null,
   "metadata": {
    "collapsed": true
   },
   "outputs": [],
   "source": []
  }
 ],
 "metadata": {
  "kernelspec": {
   "display_name": "Python 3",
   "language": "python",
   "name": "python3"
  },
  "language_info": {
   "codemirror_mode": {
    "name": "ipython",
    "version": 3
   },
   "file_extension": ".py",
   "mimetype": "text/x-python",
   "name": "python",
   "nbconvert_exporter": "python",
   "pygments_lexer": "ipython3",
   "version": "3.6.0"
  }
 },
 "nbformat": 4,
 "nbformat_minor": 2
}
