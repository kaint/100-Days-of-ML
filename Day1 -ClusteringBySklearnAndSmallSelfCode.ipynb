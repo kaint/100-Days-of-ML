{
 "cells": [
  {
   "cell_type": "code",
   "execution_count": null,
   "metadata": {
    "collapsed": true
   },
   "outputs": [],
   "source": [
    "import numpy as np\n",
    "from matplotlib import pyplot as plt"
   ]
  },
  {
   "cell_type": "code",
   "execution_count": null,
   "metadata": {
    "collapsed": true
   },
   "outputs": [],
   "source": []
  },
  {
   "cell_type": "code",
   "execution_count": null,
   "metadata": {
    "collapsed": false
   },
   "outputs": [],
   "source": [
    "x = np.array([[1,2], [1.5,1.8], [5,8], [8,8], [1,0.6], [9,11]])\n",
    "plt.scatter(x[:,0],x[:,1])\n",
    "plt.show()"
   ]
  },
  {
   "cell_type": "code",
   "execution_count": null,
   "metadata": {
    "collapsed": true
   },
   "outputs": [],
   "source": [
    "from sklearn.cluster import KMeans"
   ]
  },
  {
   "cell_type": "code",
   "execution_count": null,
   "metadata": {
    "collapsed": false
   },
   "outputs": [],
   "source": [
    "k_means=KMeans(n_clusters=2)"
   ]
  },
  {
   "cell_type": "code",
   "execution_count": null,
   "metadata": {
    "collapsed": false
   },
   "outputs": [],
   "source": [
    "k_means.fit(x)     #bydeafualt n_cluster=8....... init use kmeans++  algo which means select point in such a\n",
    "                   #way that points are far fromeach other\n",
    "             #n_init how many time again to run from restart"
   ]
  },
  {
   "cell_type": "code",
   "execution_count": null,
   "metadata": {
    "collapsed": false
   },
   "outputs": [],
   "source": [
    "k_means.labels_"
   ]
  },
  {
   "cell_type": "code",
   "execution_count": null,
   "metadata": {
    "collapsed": false
   },
   "outputs": [],
   "source": [
    "centers=k_means.cluster_centers_\n",
    "centers"
   ]
  },
  {
   "cell_type": "code",
   "execution_count": null,
   "metadata": {
    "collapsed": false
   },
   "outputs": [],
   "source": [
    "plt.scatter(centers[:,0],centers[:,1],c='r' ,marker='*')\n",
    "plt.scatter(x[:,0],x[:,1])\n",
    "\n",
    "plt.show()"
   ]
  },
  {
   "cell_type": "code",
   "execution_count": null,
   "metadata": {
    "collapsed": true
   },
   "outputs": [],
   "source": [
    "def find_dist(means,xy):\n",
    "    dist=[]\n",
    "    for i in range(len(means)+1):\n",
    "        x1=means[i][0]\n",
    "        y1=means[i][1]\n",
    "        x2=xy[0]\n",
    "        y2=xy[1]\n",
    "        ans=\n",
    "        dist.append((i))\n",
    "        "
   ]
  },
  {
   "cell_type": "code",
   "execution_count": null,
   "metadata": {
    "collapsed": false
   },
   "outputs": [],
   "source": [
    "def fit(data,k=2,max_iter=100):\n",
    "    #MAINTAIN LIST OF MEANS \n",
    "    #CLUSTER INFO ie WHICH POINT BELONGS TO WHICH POINT\n",
    "    means=[]\n",
    "    #randomly initiazlize means\n",
    "    #in our case we are just appending the first k points to our means\n",
    "    for i in range(k):\n",
    "        means.append(data[i])\n",
    "        \n",
    "    for i in range(max_iter):\n",
    "        #assinge the data points to the clluster that they belong to\n",
    "        #creating empty cluster\n",
    "        clusters=[]\n",
    "        for j in range(k):\n",
    "            clusters.append([])\n",
    "        \n",
    "        for points in data:\n",
    "            #find distance to all mean value\n",
    "            #find the min distance\n",
    "            #find the mean for which we got mini distance\n",
    "            #add this point to cluster with min distnace\n",
    "            distances=[((points-m)**2).sum() for m in means]\n",
    "            minDistances=min(distances)\n",
    "            l=distances.index(minDistances)\n",
    "            clusters[l].append(point)\n",
    "            \n",
    "            \n",
    "        #new mean values\n",
    "        \n",
    "        for j in range(k):\n",
    "            means[j]=np.average(clusters[j])\n",
    "    return means\n",
    "        \n",
    "      "
   ]
  },
  {
   "cell_type": "code",
   "execution_count": null,
   "metadata": {
    "collapsed": false
   },
   "outputs": [],
   "source": [
    "arr=[(5,1),(4,2),(3,3)]\n",
    "arr=sorted(arr)\n",
    "arr[0][0]"
   ]
  },
  {
   "cell_type": "code",
   "execution_count": null,
   "metadata": {
    "collapsed": true
   },
   "outputs": [],
   "source": []
  }
 ],
 "metadata": {
  "kernelspec": {
   "display_name": "Python 3",
   "language": "python",
   "name": "python3"
  },
  "language_info": {
   "codemirror_mode": {
    "name": "ipython",
    "version": 3
   },
   "file_extension": ".py",
   "mimetype": "text/x-python",
   "name": "python",
   "nbconvert_exporter": "python",
   "pygments_lexer": "ipython3",
   "version": "3.6.0"
  }
 },
 "nbformat": 4,
 "nbformat_minor": 2
}
